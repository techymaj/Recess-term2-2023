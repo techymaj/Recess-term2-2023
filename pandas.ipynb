{
 "cells": [
  {
   "cell_type": "markdown",
   "id": "662bba7d",
   "metadata": {},
   "source": [
    "# Python Libraries"
   ]
  },
  {
   "cell_type": "markdown",
   "id": "10b04191",
   "metadata": {},
   "source": [
    "## 1. Pandas"
   ]
  },
  {
   "cell_type": "code",
   "execution_count": 26,
   "id": "fc92726c",
   "metadata": {},
   "outputs": [
    {
     "name": "stdout",
     "output_type": "stream",
     "text": [
      "1.5.3\n"
     ]
    }
   ],
   "source": [
    "import pandas as pd\n",
    "print(pd.__version__)"
   ]
  },
  {
   "cell_type": "code",
   "execution_count": 25,
   "id": "af12f00f",
   "metadata": {},
   "outputs": [
    {
     "name": "stdout",
     "output_type": "stream",
     "text": [
      "Empty DataFrame\n",
      "Columns: []\n",
      "Index: []\n"
     ]
    }
   ],
   "source": [
    "import pandas as pd\n",
    "df = pd.DataFrame()\n",
    "print(df)"
   ]
  },
  {
   "cell_type": "code",
   "execution_count": 24,
   "id": "b0d2e01d",
   "metadata": {
    "scrolled": false
   },
   "outputs": [
    {
     "data": {
      "text/html": [
       "<div>\n",
       "<style scoped>\n",
       "    .dataframe tbody tr th:only-of-type {\n",
       "        vertical-align: middle;\n",
       "    }\n",
       "\n",
       "    .dataframe tbody tr th {\n",
       "        vertical-align: top;\n",
       "    }\n",
       "\n",
       "    .dataframe thead th {\n",
       "        text-align: right;\n",
       "    }\n",
       "</style>\n",
       "<table border=\"1\" class=\"dataframe\">\n",
       "  <thead>\n",
       "    <tr style=\"text-align: right;\">\n",
       "      <th></th>\n",
       "    </tr>\n",
       "  </thead>\n",
       "  <tbody>\n",
       "  </tbody>\n",
       "</table>\n",
       "</div>"
      ],
      "text/plain": [
       "Empty DataFrame\n",
       "Columns: []\n",
       "Index: []"
      ]
     },
     "execution_count": 24,
     "metadata": {},
     "output_type": "execute_result"
    }
   ],
   "source": [
    "import pandas as pd\n",
    "df = pd.DataFrame()\n",
    "df"
   ]
  },
  {
   "cell_type": "code",
   "execution_count": 32,
   "id": "f5945585",
   "metadata": {},
   "outputs": [
    {
     "data": {
      "text/html": [
       "<div>\n",
       "<style scoped>\n",
       "    .dataframe tbody tr th:only-of-type {\n",
       "        vertical-align: middle;\n",
       "    }\n",
       "\n",
       "    .dataframe tbody tr th {\n",
       "        vertical-align: top;\n",
       "    }\n",
       "\n",
       "    .dataframe thead th {\n",
       "        text-align: right;\n",
       "    }\n",
       "</style>\n",
       "<table border=\"1\" class=\"dataframe\">\n",
       "  <thead>\n",
       "    <tr style=\"text-align: right;\">\n",
       "      <th></th>\n",
       "      <th>cars</th>\n",
       "      <th>year_of_make</th>\n",
       "    </tr>\n",
       "  </thead>\n",
       "  <tbody>\n",
       "    <tr>\n",
       "      <th>0</th>\n",
       "      <td>Tesla</td>\n",
       "      <td>2023</td>\n",
       "    </tr>\n",
       "    <tr>\n",
       "      <th>1</th>\n",
       "      <td>Lamborghini</td>\n",
       "      <td>2022</td>\n",
       "    </tr>\n",
       "    <tr>\n",
       "      <th>2</th>\n",
       "      <td>Porshe</td>\n",
       "      <td>2019</td>\n",
       "    </tr>\n",
       "    <tr>\n",
       "      <th>3</th>\n",
       "      <td>Ferrari</td>\n",
       "      <td>2020</td>\n",
       "    </tr>\n",
       "  </tbody>\n",
       "</table>\n",
       "</div>"
      ],
      "text/plain": [
       "          cars year_of_make\n",
       "0        Tesla         2023\n",
       "1  Lamborghini         2022\n",
       "2       Porshe         2019\n",
       "3      Ferrari         2020"
      ]
     },
     "execution_count": 32,
     "metadata": {},
     "output_type": "execute_result"
    }
   ],
   "source": [
    "import pandas as pd\n",
    "dataset = {\n",
    "    'cars': ['Tesla', 'Lamborghini', 'Porshe', 'Ferrari'],\n",
    "    'year_of_make': ['2023', '2022', '2019', '2020']\n",
    "}\n",
    "df = pd.DataFrame(dataset)\n",
    "df\n",
    "# df['cars'][0]\n",
    "# print(f\"First index item: {df['cars'][0]}\")"
   ]
  },
  {
   "cell_type": "markdown",
   "id": "7c19c8c9",
   "metadata": {},
   "source": [
    "Using Series"
   ]
  },
  {
   "cell_type": "code",
   "execution_count": 36,
   "id": "7cec996a",
   "metadata": {},
   "outputs": [
    {
     "name": "stdout",
     "output_type": "stream",
     "text": [
      "cars            [Tesla, Lamborghini, Porshe, Ferrari]\n",
      "year_of_make                 [2023, 2022, 2019, 2020]\n",
      "dtype: object\n"
     ]
    }
   ],
   "source": [
    "import pandas as pd\n",
    "dataset = {\n",
    "    'cars': ['Tesla', 'Lamborghini', 'Porshe', 'Ferrari'],\n",
    "    'year_of_make': ['2023', '2022', '2019', '2020']\n",
    "}\n",
    "s = pd.Series(dataset)\n",
    "print(s)"
   ]
  },
  {
   "cell_type": "code",
   "execution_count": 37,
   "id": "24ff8340",
   "metadata": {},
   "outputs": [
    {
     "name": "stdout",
     "output_type": "stream",
     "text": [
      "0          Tesla\n",
      "1    Lamborghini\n",
      "2         Porshe\n",
      "3        Ferrari\n",
      "dtype: object\n"
     ]
    }
   ],
   "source": [
    "import pandas as pd\n",
    "dataset = ['Tesla', 'Lamborghini', 'Porshe', 'Ferrari']\n",
    "s = pd.Series(dataset)\n",
    "print(s)"
   ]
  },
  {
   "cell_type": "markdown",
   "id": "f41aff96",
   "metadata": {},
   "source": [
    "### Assignemt 1: Series with days & dates from a dictionary"
   ]
  },
  {
   "cell_type": "code",
   "execution_count": 108,
   "id": "5a65b92a",
   "metadata": {},
   "outputs": [
    {
     "name": "stdout",
     "output_type": "stream",
     "text": [
      "Monday : 01-07-2023\n",
      "Tuesday : 02-07-2023\n",
      "Wednesday : 03-07-2023\n",
      "Thursday : 04-07-2023\n",
      "Friday : 05-07-2023\n",
      "Saturday : 06-07-2023\n",
      "Sunday : 07-07-2023\n"
     ]
    }
   ],
   "source": [
    "import pandas as pd\n",
    "dataset = {\n",
    "    'days': ['Monday', 'Tuesday', 'Wednesday', 'Thursday', 'Friday', 'Saturday', 'Sunday'],\n",
    "    'dates': ['01-07-2023', '02-07-2023', '03-07-2023', '04-07-2023', '05-07-2023', '06-07-2023', '07-07-2023']\n",
    "}\n",
    "s = pd.Series(dataset)\n",
    "days = []\n",
    "index = -1\n",
    "for j in s['days']:\n",
    "    index = index + 1\n",
    "    for i in s['dates']:\n",
    "        days.append(i)\n",
    "    print(j,\":\", days[index])"
   ]
  },
  {
   "cell_type": "markdown",
   "id": "f5296931",
   "metadata": {},
   "source": [
    "### Assignment 2: Create a series using only data from Monday and Tuesday"
   ]
  },
  {
   "cell_type": "code",
   "execution_count": 107,
   "id": "4dbfb9d9",
   "metadata": {},
   "outputs": [
    {
     "name": "stdout",
     "output_type": "stream",
     "text": [
      "0     Monday\n",
      "1    Tuesday\n",
      "dtype: object\n"
     ]
    }
   ],
   "source": [
    "import pandas as pd\n",
    "dataset = {\n",
    "    'days': ['Monday', 'Tuesday', 'Wednesday', 'Thursday', 'Friday', 'Saturday', 'Sunday'],\n",
    "    'dates': ['01-07-2023', '02-07-2023', '03-07-2023', '04-07-2023', '05-07-2023', '06-07-2023', '07-07-2023']\n",
    "}\n",
    "new_dataset = []\n",
    "for day in dataset['days']:\n",
    "    if day == 'Monday' or day == 'Tuesday':\n",
    "        new_dataset.append(day)\n",
    "s = pd.Series(new_dataset)\n",
    "print(s)"
   ]
  },
  {
   "cell_type": "code",
   "execution_count": null,
   "id": "ec055d24",
   "metadata": {},
   "outputs": [],
   "source": []
  }
 ],
 "metadata": {
  "kernelspec": {
   "display_name": "Python 3 (ipykernel)",
   "language": "python",
   "name": "python3"
  },
  "language_info": {
   "codemirror_mode": {
    "name": "ipython",
    "version": 3
   },
   "file_extension": ".py",
   "mimetype": "text/x-python",
   "name": "python",
   "nbconvert_exporter": "python",
   "pygments_lexer": "ipython3",
   "version": "3.10.9"
  }
 },
 "nbformat": 4,
 "nbformat_minor": 5
}
