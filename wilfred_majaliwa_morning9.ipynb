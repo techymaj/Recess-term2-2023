{
 "cells": [
  {
   "attachments": {},
   "cell_type": "markdown",
   "metadata": {},
   "source": [
    "### Summary\n",
    "- Key Objectives for analyzing your dataset\n",
    "- Features of the columns you are analyzing and why you are analyzing\n",
    "- Preprocessing and Preparation | head & tail methods\n",
    "- Use screenshots to visualize data in reports"
   ]
  },
  {
   "attachments": {},
   "cell_type": "markdown",
   "metadata": {},
   "source": [
    "### Statistics for data science\n",
    "- Descpriptive statistics\n",
    "- Probability\n",
    "- Inferential statistics\n",
    "- Modeeling\n",
    "#### ML\n",
    "- Regression, classification, cluster, anomally detection\n",
    "\n"
   ]
  },
  {
   "attachments": {},
   "cell_type": "markdown",
   "metadata": {},
   "source": [
    "### Python data correlation\n",
    "- use method corr() calculates correlation coefficeints between all columns in a data frame\n",
    "- strong positive correlation, 1\n",
    "- strong negative correlation, -1\n",
    "- Perfect correlation, 1\n",
    "- Perfect Negative correlation, 1\n",
    "\n"
   ]
  },
  {
   "cell_type": "code",
   "execution_count": 3,
   "metadata": {},
   "outputs": [
    {
     "name": "stdout",
     "output_type": "stream",
     "text": [
      "     x    y    z\n",
      "x  1.0  1.0  1.0\n",
      "y  1.0  1.0  1.0\n",
      "z  1.0  1.0  1.0\n"
     ]
    }
   ],
   "source": [
    "import pandas as pd\n",
    "\n",
    "df = pd.DataFrame({\n",
    "    'x': [1, 2, 3, 4, 5],\n",
    "    'y': [2, 4, 6, 8, 10],\n",
    "    'z': [3, 6, 9, 12, 15]\n",
    "})\n",
    "\n",
    "# Calc relationship between x, y and z\n",
    "correlation = df.corr()\n",
    "print(correlation)"
   ]
  }
 ],
 "metadata": {
  "kernelspec": {
   "display_name": "base",
   "language": "python",
   "name": "python3"
  },
  "language_info": {
   "codemirror_mode": {
    "name": "ipython",
    "version": 3
   },
   "file_extension": ".py",
   "mimetype": "text/x-python",
   "name": "python",
   "nbconvert_exporter": "python",
   "pygments_lexer": "ipython3",
   "version": "3.10.9"
  },
  "orig_nbformat": 4
 },
 "nbformat": 4,
 "nbformat_minor": 2
}
